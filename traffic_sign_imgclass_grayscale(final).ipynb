{
 "cells": [
  {
   "cell_type": "markdown",
   "metadata": {},
   "source": [
    "# Project:  Traffic Sign Classification \n",
    "**In this project, We used Python and TensorFlow to classify traffic signs.**\n",
    "\n",
    "**Dataset used: [German Traffic Sign Dataset](http://benchmark.ini.rub.de/?section=gtsrb&subsection=dataset).\n",
    "This dataset has more than 50,000 images of 43 classes.**\n",
    "\n",
    "**We were able to reach a 95% testing accuracy.**"
   ]
  },
  {
   "cell_type": "code",
   "execution_count": null,
   "metadata": {},
   "outputs": [],
   "source": [
    "import tensorflow as tf\n",
    "from tensorflow import keras \n",
    "from PIL import Image, ImageOps\n",
    "import cv2 \n",
    "import random\n",
    "import numpy as np\n",
    "import os\n",
    "import pandas as pd\n",
    "from matplotlib import pyplot as plt\n",
    "\n",
    "from keras.callbacks import ModelCheckpoint, EarlyStopping\n",
    "import time\n",
    "from tqdm import tqdm\n",
    "from keras.models import load_model\n",
    "from sklearn.model_selection import train_test_split\n",
    "from keras.utils import to_categorical\n",
    "from keras.models import Sequential\n",
    "from keras.layers import Conv2D, MaxPool2D, Dense, Flatten, Dropout\n",
    "from sklearn.metrics import confusion_matrix\n"
   ]
  },
  {
   "cell_type": "markdown",
   "metadata": {},
   "source": [
    "## Loading train data"
   ]
  },
  {
   "cell_type": "code",
   "execution_count": null,
   "metadata": {},
   "outputs": [],
   "source": [
    "df = pd.read_csv(\"Train.csv\")\n",
    "data = np.ndarray(shape=(1, 224, 224, 3), dtype=np.float32)  #for train\n"
   ]
  },
  {
   "cell_type": "code",
   "execution_count": null,
   "metadata": {},
   "outputs": [],
   "source": [
    "df.info()"
   ]
  },
  {
   "cell_type": "code",
   "execution_count": null,
   "metadata": {},
   "outputs": [],
   "source": [
    "for i, row in df.iterrows():\n",
    "    print(row['Path'])"
   ]
  },
  {
   "cell_type": "code",
   "execution_count": null,
   "metadata": {},
   "outputs": [],
   "source": [
    "data=[]\n",
    "labels=[]\n"
   ]
  },
  {
   "cell_type": "code",
   "execution_count": null,
   "metadata": {},
   "outputs": [],
   "source": [
    "for i,row  in tqdm(df.iterrows()):\n",
    "    \n",
    "    # Replace this with the path to your image\n",
    "    image = Image.open(row['Path'])\n",
    "\n",
    "    #resize the image to a 30x30 with the same strategy as in TM2:\n",
    "    image=image.resize((30,30))\n",
    "\n",
    "    #turn the image into a numpy array\n",
    "    image=np.array(image)\n",
    "    \n",
    "\n",
    "    # Normalize the image\n",
    "    #normalized_image_array = (image_array.astype(np.float32) / 127.0) - 1\n",
    "\n",
    "    # Load the image into the array\n",
    "    data.append(image)\n",
    "    labels.append(row['ClassId'])\n",
    "    "
   ]
  },
  {
   "cell_type": "code",
   "execution_count": null,
   "metadata": {},
   "outputs": [],
   "source": [
    "data = np.array(data)\n",
    "data.shape  "
   ]
  },
  {
   "cell_type": "code",
   "execution_count": null,
   "metadata": {},
   "outputs": [],
   "source": [
    "labels=np.array(labels)\n",
    "labels.shape"
   ]
  },
  {
   "cell_type": "markdown",
   "metadata": {},
   "source": [
    "# Testing the data with original test data\n",
    "---\n",
    "## Loading Test Data"
   ]
  },
  {
   "cell_type": "code",
   "execution_count": null,
   "metadata": {},
   "outputs": [],
   "source": [
    "df_new = pd.read_csv(\"Test.csv\")\n",
    "data_new = np.ndarray(shape=(1, 224, 224, 3), dtype=np.float32)"
   ]
  },
  {
   "cell_type": "code",
   "execution_count": null,
   "metadata": {},
   "outputs": [],
   "source": [
    "df_new.head()   "
   ]
  },
  {
   "cell_type": "code",
   "execution_count": null,
   "metadata": {},
   "outputs": [],
   "source": [
    "for i, row in df_new.iterrows():\n",
    "    print(row['Path'])"
   ]
  },
  {
   "cell_type": "code",
   "execution_count": null,
   "metadata": {},
   "outputs": [],
   "source": [
    "data_new=[]\n",
    "labels_new=[]"
   ]
  },
  {
   "cell_type": "code",
   "execution_count": null,
   "metadata": {},
   "outputs": [],
   "source": [
    "for i,row  in tqdm(df_new.iterrows()):\n",
    "    \n",
    "    # Replace this with the path to your image\n",
    "    image_new = Image.open(row['Path'])\n",
    "\n",
    "    #resize the image to a 30x30 with the same strategy as in TM2:\n",
    "    image_new=image_new.resize((30,30))\n",
    "\n",
    "    #turn the image into a numpy array\n",
    "    #image_new=np.array(image_new)\n",
    "    image_new = np.asarray(image_new, dtype=np.uint8)\n",
    "    \n",
    "    #converting the array into integers\n",
    "    #image_new = image_new.astype('uint8')\n",
    "\n",
    "    # Normalize the image\n",
    "    #normalized_image_array = (image_array.astype(np.float32) / 127.0) - 1\n",
    "\n",
    "    # Load the image into the array\n",
    "    data_new.append(image_new)\n",
    "    labels_new.append(row['ClassId'])\n",
    "    "
   ]
  },
  {
   "cell_type": "code",
   "execution_count": null,
   "metadata": {},
   "outputs": [],
   "source": [
    "data_new = np.array(data_new)\n",
    "data_new.shape  "
   ]
  },
  {
   "cell_type": "code",
   "execution_count": null,
   "metadata": {},
   "outputs": [],
   "source": [
    "labels_new=np.array(labels_new)\n",
    "labels_new.shape"
   ]
  },
  {
   "cell_type": "code",
   "execution_count": null,
   "metadata": {},
   "outputs": [],
   "source": [
    "X_train_new = data\n",
    "y_train_new = labels\n",
    "X_test_new = data_new\n",
    "y_test_new = labels_new"
   ]
  },
  {
   "cell_type": "code",
   "execution_count": null,
   "metadata": {},
   "outputs": [],
   "source": [
    "print(X_train_new.shape,y_train_new.shape,X_test_new.shape,y_test_new.shape)"
   ]
  },
  {
   "cell_type": "markdown",
   "metadata": {},
   "source": [
    "## **Grayscaling**:This is used to improve test accuracy"
   ]
  },
  {
   "cell_type": "code",
   "execution_count": null,
   "metadata": {},
   "outputs": [],
   "source": [
    "#converting to grayscale\n",
    "def list_images(data,labels, ylabel=\"\", cmap=None):\n",
    "    \"\"\"\n",
    "    Display a list of images in a single figure with matplotlib.\n",
    "        Parameters:\n",
    "            images: An np.array compatible with plt.imshow.\n",
    "            lanel (Default = No label): A string to be used as a label for each image.\n",
    "            cmap (Default = None): Used to display gray images.\n",
    "    \"\"\"\n",
    "    plt.figure(figsize=(15, 16))\n",
    "    for i in range(6):\n",
    "        plt.subplot(1, 6, i+1)\n",
    "        indx = random.randint(0, len(data))\n",
    "        #Use gray scale color map if there is only one channel\n",
    "        cmap = 'gray' if len(data[indx].shape) == 2 else cmap\n",
    "        plt.imshow(data[indx], cmap = cmap)\n",
    "        plt.xticks([])\n",
    "        plt.yticks([])\n",
    "    plt.tight_layout(pad=0, h_pad=0, w_pad=0)\n",
    "    plt.show()"
   ]
  },
  {
   "cell_type": "markdown",
   "metadata": {},
   "source": [
    "## **Grayscaling** the train data"
   ]
  },
  {
   "cell_type": "code",
   "execution_count": null,
   "metadata": {},
   "outputs": [],
   "source": [
    " def gray_scale(data):                                              #train data\n",
    "    \"\"\"                                                            \n",
    "    Convert images to gray scale.\n",
    "        Parameters:\n",
    "            image: An np.array compatible with plt.imshow.\n",
    "    \"\"\"\n",
    "    return cv2.cvtColor(data, cv2.COLOR_RGB2GRAY)"
   ]
  },
  {
   "cell_type": "code",
   "execution_count": null,
   "metadata": {},
   "outputs": [],
   "source": [
    "# Sample images after grayscaling\n",
    "gray_images = list(map(gray_scale, X_train_new))\n",
    "list_images(gray_images, y_train_new, \"Gray Scale image\", \"gray\")\n"
   ]
  },
  {
   "cell_type": "code",
   "execution_count": null,
   "metadata": {},
   "outputs": [],
   "source": [
    "g_img = np.array(gray_images)"
   ]
  },
  {
   "cell_type": "code",
   "execution_count": null,
   "metadata": {},
   "outputs": [],
   "source": [
    "g_img = g_img.reshape(39209,30,30,1)"
   ]
  },
  {
   "cell_type": "code",
   "execution_count": null,
   "metadata": {},
   "outputs": [],
   "source": [
    "def list_images_new(data_new,labels_new, ylabel=\"\", cmap=None):\n",
    "    \"\"\"\n",
    "    Display a list of images in a single figure with matplotlib.\n",
    "        Parameters:\n",
    "            images: An np.array compatible with plt.imshow.\n",
    "            lanel (Default = No label): A string to be used as a label for each image.\n",
    "            cmap (Default = None): Used to display gray images.\n",
    "    \"\"\"\n",
    "    plt.figure(figsize=(15, 16))\n",
    "    for i in range(6):\n",
    "        plt.subplot(1, 6, i+1)\n",
    "        indx = random.randint(0, len(data_new))\n",
    "        #Use gray scale color map if there is only one channel\n",
    "        cmap = 'gray' if len(data_new[indx].shape) == 2 else cmap\n",
    "        plt.imshow(data_new[indx], cmap = cmap)\n",
    "        plt.xticks([])\n",
    "        plt.yticks([])\n",
    "    plt.tight_layout(pad=0, h_pad=0, w_pad=0)\n",
    "    plt.show()"
   ]
  },
  {
   "cell_type": "markdown",
   "metadata": {},
   "source": [
    "## **Grayscaling** the test data"
   ]
  },
  {
   "cell_type": "code",
   "execution_count": null,
   "metadata": {},
   "outputs": [],
   "source": [
    "\n",
    "def gray_scale_new(data_new):                                              \n",
    "    return cv2.cvtColor(data_new, cv2.COLOR_RGB2GRAY)\n",
    "\n"
   ]
  },
  {
   "cell_type": "code",
   "execution_count": null,
   "metadata": {},
   "outputs": [],
   "source": [
    "# Sample images after grayscaling\n",
    "gray_images_new = list(map(gray_scale_new, X_test_new))\n",
    "list_images_new(gray_images_new, y_test_new, \"Gray Scale image\", \"gray\")"
   ]
  },
  {
   "cell_type": "code",
   "execution_count": null,
   "metadata": {},
   "outputs": [],
   "source": [
    "g_img_new = np.array(gray_images_new)"
   ]
  },
  {
   "cell_type": "code",
   "execution_count": null,
   "metadata": {},
   "outputs": [],
   "source": [
    "g_img_new = g_img_new.reshape(12630,30,30,1)"
   ]
  },
  {
   "cell_type": "markdown",
   "metadata": {},
   "source": [
    "## Creating the model"
   ]
  },
  {
   "cell_type": "code",
   "execution_count": null,
   "metadata": {},
   "outputs": [],
   "source": [
    "def get_conv_model():\n",
    "    model = Sequential()\n",
    "    model.add(Conv2D(filters=32, kernel_size=(5,5), activation ='relu', input_shape = input_shape))\n",
    "    model.add(Conv2D(filters=32, kernel_size=(5,5), activation ='relu'))\n",
    "    model.add(MaxPool2D(pool_size = (2,2) ))\n",
    "    model.add(Dropout(rate=0.25))\n",
    "    model.add(Conv2D(filters=32, kernel_size=(3,3), activation ='relu'))\n",
    "    model.add(Conv2D(filters=32, kernel_size=(3,3), activation ='relu'))\n",
    "    model.add(MaxPool2D(pool_size = (2,2) ))\n",
    "    model.add(Dropout(rate=0.25))\n",
    "    model.add(Flatten())\n",
    "    model.add(Dense(256, activation = 'relu'))\n",
    "    model.add(Dropout(rate=0.5))\n",
    "    model.add(Dense(43, activation = 'softmax'))\n",
    "    model.summary()\n",
    "    \n",
    "    model.compile(loss = 'sparse_categorical_crossentropy', optimizer = 'adam', metrics = ['acc'])\n",
    "    return model\n",
    "    "
   ]
  },
  {
   "cell_type": "code",
   "execution_count": null,
   "metadata": {},
   "outputs": [],
   "source": [
    "input_shape = g_img[0].shape\n"
   ]
  },
  {
   "cell_type": "markdown",
   "metadata": {},
   "source": [
    "## Fitting the model"
   ]
  },
  {
   "cell_type": "code",
   "execution_count": null,
   "metadata": {
    "scrolled": true
   },
   "outputs": [],
   "source": [
    "#model.callback\n",
    "model_path = 'traffic_sign_model_grayscale_2'\n",
    "epochs = 20\n",
    "batch_size =256\n",
    "\n",
    "model = get_conv_model()\n",
    "es = EarlyStopping(monitor = 'val_loss', verbose =1, mode =min, patience = 3)  \n",
    "checkpoint = ModelCheckpoint(model_path, monitor = 'acc', verbose = 1, mode='max',\n",
    "                             save_best_only=True, save_weights_only = False, period =1)\n",
    "history = model.fit(g_img, y_train_new, batch_size=batch_size, shuffle = True, epochs= epochs, \n",
    "                    verbose = 1, validation_split=0.05, callbacks = [checkpoint])\n",
    "\n",
    "model.save(model_path)         "
   ]
  },
  {
   "cell_type": "markdown",
   "metadata": {},
   "source": [
    "## Getting the final test score(ie Accuracy score)"
   ]
  },
  {
   "cell_type": "code",
   "execution_count": null,
   "metadata": {},
   "outputs": [],
   "source": [
    "\n",
    "yp=[]\n",
    "print(y_test_new)\n",
    "\n",
    "\n",
    "model=load_model(model_path)\n",
    "y_pred = model.predict(g_img_new)\n",
    "print(y_pred.shape)\n",
    "\n",
    "for i in y_pred:\n",
    "    vec=list(i)\n",
    "    yp.append(vec.index(max(vec)))\n",
    "        \n",
    "#print(yp)\n",
    "#print(len(y_test))\n",
    "\n",
    "from sklearn.metrics import accuracy_score\n",
    "\n",
    "print('Accuracy score : ', accuracy_score(y_test_new,yp))\n",
    "\n",
    "from sklearn.metrics import confusion_matrix\n",
    "\n",
    "c = confusion_matrix(y_test_new,yp)\n",
    "print(c)\n",
    "\n",
    "from sklearn.metrics import classification_report\n",
    "target_names = []\n",
    "for i in range(43):\n",
    "    target_names.append('class '+str(i))\n",
    "print((classification_report(y_test_new,yp,target_names = target_names)))\n"
   ]
  },
  {
   "cell_type": "markdown",
   "metadata": {},
   "source": [
    "## Displaying the confusion matrix"
   ]
  },
  {
   "cell_type": "code",
   "execution_count": null,
   "metadata": {},
   "outputs": [],
   "source": [
    "cm = confusion_matrix(y_test_new, yp)\n",
    "cm = cm.astype('float') / cm.sum(axis=1)[:, np.newaxis]\n",
    "cm = np.log(.0001 + cm)\n",
    "plt.imshow(cm, interpolation='nearest', cmap=plt.cm.Blues)\n",
    "plt.title('Log of normalized Confusion Matrix')\n",
    "plt.ylabel('True label')\n",
    "plt.xlabel('Predicted label')\n",
    "plt.show()"
   ]
  }
 ],
 "metadata": {
  "kernelspec": {
   "display_name": "Python 3",
   "language": "python",
   "name": "python3"
  },
  "language_info": {
   "codemirror_mode": {
    "name": "ipython",
    "version": 3
   },
   "file_extension": ".py",
   "mimetype": "text/x-python",
   "name": "python",
   "nbconvert_exporter": "python",
   "pygments_lexer": "ipython3",
   "version": "3.7.6"
  }
 },
 "nbformat": 4,
 "nbformat_minor": 4
}
